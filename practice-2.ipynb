{
  "nbformat": 4,
  "nbformat_minor": 0,
  "metadata": {
    "colab": {
      "private_outputs": true,
      "provenance": [],
      "toc_visible": true,
      "include_colab_link": true
    },
    "kernelspec": {
      "name": "python3",
      "display_name": "Python 3"
    },
    "accelerator": "GPU"
  },
  "cells": [
    {
      "cell_type": "markdown",
      "metadata": {
        "id": "view-in-github",
        "colab_type": "text"
      },
      "source": [
        "<a href=\"https://colab.research.google.com/github/egemengulpinar/Image-Super-Resolution-SRCNN-notes/blob/main/basic-practice-2.ipynb\" target=\"_parent\"><img src=\"https://colab.research.google.com/assets/colab-badge.svg\" alt=\"Open In Colab\"/></a>"
      ]
    },
    {
      "cell_type": "code",
      "metadata": {
        "id": "ip_QvpbgYGW4"
      },
      "source": [
        "import torch\n",
        "import torch.nn as nn\n",
        "import numpy as np\n",
        "import torchvision.datasets as datasets\n",
        "import torchvision.transforms as transforms\n",
        "import matplotlib.pyplot as plt\n",
        "from torchsummary import summary"
      ],
      "execution_count": null,
      "outputs": []
    },
    {
      "cell_type": "code",
      "metadata": {
        "id": "pWZV7kvz6fjA"
      },
      "source": [
        "#DEFINE YOUR DEVICE\n",
        "device = torch.device('cuda:0' if torch.cuda.is_available() else 'cpu')\n",
        "\n",
        "print(device) #if cpu, go Runtime-> Change runtime type-> Hardware accelerator GPU -> Save -> Redo previous steps"
      ],
      "execution_count": null,
      "outputs": []
    },
    {
      "cell_type": "code",
      "metadata": {
        "id": "0jj3xUVYLZo1"
      },
      "source": [
        "#DOWNLOAD CIFAR-10 DATASET\n",
        "train_data = datasets.CIFAR10('./data', train = True, download = True, transform = transforms.ToTensor())\n",
        "\n",
        "test_data = datasets.CIFAR10('./data', train = False, transform = transforms.ToTensor())"
      ],
      "execution_count": null,
      "outputs": []
    },
    {
      "cell_type": "code",
      "metadata": {
        "id": "bnFZEng8lg4a"
      },
      "source": [
        "#DEFINE DATA GENERATOR\n",
        "batch_size = 100\n",
        "train_generator = torch.utils.data.DataLoader(train_data, batch_size = batch_size, shuffle = True)\n",
        "\n",
        "test_generator = torch.utils.data.DataLoader(test_data, batch_size = batch_size, shuffle = False)"
      ],
      "execution_count": null,
      "outputs": []
    },
    {
      "cell_type": "code",
      "metadata": {
        "id": "Ptm-hTFZ8BI-",
        "cellView": "both"
      },
      "source": [
        "model = nn.Sequential(\n",
        "            nn.Conv2d(3, 32, kernel_size=3, padding=1),\n",
        "            nn.ReLU(),\n",
        "            nn.Conv2d(32, 64, kernel_size=3, stride=1, padding=1),\n",
        "            nn.ReLU(),\n",
        "            nn.MaxPool2d(2, 2), # output: 64 x 16 x 16\n",
        "            nn.BatchNorm2d(64),\n",
        "\n",
        "            nn.Conv2d(64, 128, kernel_size=3, stride=1, padding=1),\n",
        "            nn.ReLU(),\n",
        "            nn.Conv2d(128, 128, kernel_size=3, stride=1, padding=1),\n",
        "            nn.ReLU(),\n",
        "            nn.MaxPool2d(2, 2), # output: 128 x 8 x 8\n",
        "            nn.BatchNorm2d(128),\n",
        "\n",
        "            nn.Conv2d(128, 256, kernel_size=3, stride=1, padding=1),\n",
        "            nn.ReLU(),\n",
        "            nn.Conv2d(256, 256, kernel_size=3, stride=1, padding=1),\n",
        "            nn.ReLU(),\n",
        "            nn.MaxPool2d(2, 2), # output: 256 x 4 x 4\n",
        "            nn.BatchNorm2d(256),\n",
        "\n",
        "            nn.Flatten(),\n",
        "            nn.Linear(256*4*4, 1024),\n",
        "            nn.ReLU(),\n",
        "            nn.Linear(1024, 512),\n",
        "            nn.ReLU(),\n",
        "            nn.Linear(512, 10))"
      ],
      "execution_count": null,
      "outputs": []
    },
    {
      "cell_type": "code",
      "metadata": {
        "id": "kD0yeYzVIHwT"
      },
      "source": [
        "#CREATE MODEL\n",
        "# model = CNN()\n",
        "model.to(device)\n",
        "summary(model,(3,32,32))"
      ],
      "execution_count": null,
      "outputs": []
    },
    {
      "cell_type": "code",
      "metadata": {
        "id": "FpJqpIu2I0jd"
      },
      "source": [
        "#DEFINE LOSS FUNCTION AND OPTIMIZER\n",
        "learning_rate = 0.001\n",
        "# momentum = 0.95\n",
        "loss_fun = torch.nn.CrossEntropyLoss()\n",
        "optimizer = torch.optim.Adam(model.parameters(), lr = learning_rate)\n",
        "#optimizer=torch.optim.SGD(model.parameters(),lr=0.001,momentum=0.9)"
      ],
      "execution_count": null,
      "outputs": []
    },
    {
      "cell_type": "code",
      "metadata": {
        "id": "DEuX6ORhJL6Z"
      },
      "source": [
        "#TRAIN THE MODEL\n",
        "def train(epoch):\n",
        "  print('\\nEpoch : %d'%epoch)\n",
        "  model.train()\n",
        "  epoch = 1\n",
        "  train_losses = []\n",
        "  num_of_batch=np.int(len(train_generator.dataset)/batch_size)\n",
        "  running_loss=0\n",
        "  loss_values = np.zeros(epoch*num_of_batch)\n",
        "  for i in range(epoch):\n",
        "    for batch_idx, (x_train, y_train) in enumerate(train_generator):\n",
        "      x_train, y_train = x_train.to(device), y_train.to(device)\n",
        "      optimizer.zero_grad()\n",
        "      y_pred = model(x_train)\n",
        "      loss = loss_fun(y_pred, y_train)\n",
        "      loss_values[num_of_batch*i+batch_idx] = loss.item()\n",
        "      loss.backward()\n",
        "      optimizer.step()\n",
        "      running_loss += loss.item()\n",
        "      if (batch_idx+1) % batch_size == 0:\n",
        "          print('Epoch: {}/{} [Batch: {}/{} ({:.0f}%)]\\tLoss: {:.6f}'.format(\n",
        "              i+1, epoch, (batch_idx+1) * len(x_train), len(train_generator.dataset),\n",
        "              100. * (batch_idx+1) / len(train_generator), loss.item()))\n",
        "      train_loss=running_loss/len(train_generator)\n",
        "      train_losses.append(train_loss)\n",
        "\n",
        "  return loss_values"
      ],
      "execution_count": null,
      "outputs": []
    },
    {
      "cell_type": "code",
      "metadata": {
        "id": "nz-XxC-dRwFk"
      },
      "source": [
        "#TEST THE MODEL\n",
        "def test(epoch):\n",
        "  model.eval()\n",
        "  correct=0\n",
        "  total=0\n",
        "\n",
        "  for x_val, y_val in test_generator:\n",
        "    x_val = x_val.to(device)\n",
        "    y_val = y_val.to(device)\n",
        "\n",
        "    output = model(x_val)\n",
        "    y_pred = output.argmax(dim=1)\n",
        "    # print(\"Output --> \", output)\n",
        "    # print(\"y_pred --> \", y_pred)\n",
        "    # print(\"x_val --> \", x_val)\n",
        "    # print(\"y_val -->\" , y_val)\n",
        "\n",
        "    for i in range(y_pred.shape[0]):\n",
        "\n",
        "      if y_val[i]==y_pred[i]:\n",
        "        correct += 1\n",
        "      total +=1\n",
        "\n",
        "  print('Validation accuracy: %.2f%%' %((100*correct)//(total)))"
      ],
      "execution_count": null,
      "outputs": []
    },
    {
      "cell_type": "code",
      "metadata": {
        "id": "nBO58Dq1oiVQ"
      },
      "source": [
        "epochs=10\n",
        "for epoch_iterate in range(1,epochs+1):\n",
        "  return_loss_values = train(epoch_iterate)\n",
        "  test(epoch_iterate)"
      ],
      "execution_count": null,
      "outputs": []
    },
    {
      "cell_type": "code",
      "metadata": {
        "id": "To0aFhxY0FBF"
      },
      "source": [
        "#PLOT THE LEARNING CURVE\n",
        "num_of_batch=np.int(len(train_generator.dataset)/batch_size)\n",
        "iterations = np.linspace(0,5,num_of_batch*5)\n",
        "plt.plot(return_loss_values, '-o')\n",
        "# plt.plot(iterations,test_loss)\n",
        "plt.title('Validation & Train Losses')\n",
        "plt.xlabel('Epoch')\n",
        "plt.legend(['Valid','Train'])\n",
        "plt.ylabel('Loss')\n",
        "plt.grid('on')\n",
        "\n",
        "plt.show()"
      ],
      "execution_count": null,
      "outputs": []
    },
    {
      "cell_type": "code",
      "metadata": {
        "id": "0WBzy5PQ0UBE"
      },
      "source": [],
      "execution_count": null,
      "outputs": []
    }
  ]
}
