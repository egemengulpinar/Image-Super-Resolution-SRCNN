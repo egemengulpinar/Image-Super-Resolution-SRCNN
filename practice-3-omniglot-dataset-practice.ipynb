{
  "cells": [
    {
      "cell_type": "markdown",
      "metadata": {
        "id": "view-in-github",
        "colab_type": "text"
      },
      "source": [
        "<a href=\"https://colab.research.google.com/github/egemengulpinar/Image-Super-Resolution-SRCNN-notes/blob/main/omniglot_dataset_practice.ipynb\" target=\"_parent\"><img src=\"https://colab.research.google.com/assets/colab-badge.svg\" alt=\"Open In Colab\"/></a>"
      ]
    },
    {
      "cell_type": "code",
      "execution_count": 12,
      "metadata": {
        "id": "Vw7BdDfs7mAr"
      },
      "outputs": [],
      "source": [
        "import torch\n",
        "import torchvision\n",
        "import torchvision.transforms as transforms\n",
        "import torch.nn as nn\n",
        "import torch.nn.functional as F\n",
        "import torch.optim as optim\n",
        "import torchvision.datasets as datasets\n",
        "import matplotlib.pyplot as plt\n",
        "import numpy as np\n",
        "from torchsummary import summary\n",
        "from tqdm import tqdm\n",
        "import torch.nn.functional as F"
      ]
    },
    {
      "cell_type": "code",
      "execution_count": 13,
      "metadata": {
        "colab": {
          "base_uri": "https://localhost:8080/"
        },
        "id": "kppd6YZy8pnp",
        "outputId": "0a8b58d1-1ca0-403e-df0c-79ed33279ea3"
      },
      "outputs": [
        {
          "output_type": "stream",
          "name": "stdout",
          "text": [
            "Files already downloaded and verified\n",
            "Files already downloaded and verified\n"
          ]
        }
      ],
      "source": [
        "#transform=transforms.Compose([transforms.ToTensor(),transforms.Normalize((0.5,0.5,0.5),(0.5,0.5,0.5))])\n",
        "batch_size = 20\n",
        "train_set=datasets.Omniglot('./data',background=True,download=True,transform=transforms.ToTensor())\n",
        "test_set=datasets.Omniglot('./data',background=False,download=True,transform=transforms.ToTensor())\n",
        "\n",
        "trainloader=torch.utils.data.DataLoader(train_set, batch_size = batch_size, shuffle = True)\n",
        "testloader=torch.utils.data.DataLoader(test_set, batch_size = batch_size, shuffle = False)"
      ]
    },
    {
      "cell_type": "code",
      "execution_count": 14,
      "metadata": {
        "id": "6nDeR78nzWKt"
      },
      "outputs": [],
      "source": [
        "new_x = []\n",
        "new_y = []\n",
        "for data in trainloader:\n",
        "\n",
        "  new_y.extend(data)"
      ]
    },
    {
      "cell_type": "code",
      "execution_count": 15,
      "metadata": {
        "colab": {
          "base_uri": "https://localhost:8080/"
        },
        "id": "_X-xbx4jzZT1",
        "outputId": "06bdc52f-554d-4cf4-e1d8-a30ebf9637c1"
      },
      "outputs": [
        {
          "output_type": "stream",
          "name": "stdout",
          "text": [
            "1928\n"
          ]
        }
      ],
      "source": [
        "# print(len(new_x))\n",
        "\n",
        "print(len(new_y))"
      ]
    },
    {
      "cell_type": "code",
      "execution_count": 16,
      "metadata": {
        "id": "88Ew16AyKpu0"
      },
      "outputs": [],
      "source": [
        "class Omniglot(nn.Module):\n",
        "  def __init__(self):\n",
        "    super(Omniglot,self).__init__()\n",
        "    self.conv1=nn.Conv2d(1,32,kernel_size=3)\n",
        "    self.conv2=nn.Conv2d(32,64,kernel_size=3,stride=2,padding=1)\n",
        "    self.conv3=nn.Conv2d(64,128,kernel_size=3,stride=1,padding=1)\n",
        "    self.conv4=nn.Conv2d(128,128,kernel_size=3,stride=2,padding=1)\n",
        "    self.conv5=nn.Conv2d(128,256,kernel_size=3,stride=1,padding=1)\n",
        "    self.conv6=nn.Conv2d(256,256,kernel_size=3,padding=1)\n",
        "    self.relu=nn.ReLU()\n",
        "    self.mpool=nn.MaxPool2d(2)\n",
        "    self.batchNorm1=nn.BatchNorm2d(64)\n",
        "    self.batchNorm2=nn.BatchNorm2d(128)\n",
        "    self.batchNorm3=nn.BatchNorm2d(256)\n",
        "    self.dropout=nn.Dropout(p=0.5)\n",
        "    self.flatten=nn.Flatten()\n",
        "    self.linear1=nn.Linear(2304,2000)\n",
        "    self.linear2=nn.Linear(2000,1800)\n",
        "    self.linear3=nn.Linear(1800,1623)\n",
        "\n",
        "  def forward(self,x):\n",
        "    hidden=self.relu(self.conv1(x))\n",
        "    hidden=self.relu(self.conv2(hidden))\n",
        "    hidden=self.batchNorm1(self.mpool(hidden))\n",
        "\n",
        "    hidden=self.relu(self.conv3(hidden))\n",
        "    hidden=self.relu(self.conv4(hidden))\n",
        "    hidden=self.batchNorm2(self.mpool(hidden))\n",
        "\n",
        "    hidden=self.relu(self.conv5(hidden))\n",
        "    hidden=self.relu(self.conv6(hidden))\n",
        "    hidden=self.batchNorm3(self.mpool(hidden))\n",
        "\n",
        "    # print(hidden.shape)\n",
        "    flat=hidden.view(-1,2304)\n",
        "    # flat=self.flatten(hidden)\n",
        "    linear=self.linear1(flat)\n",
        "    linear=self.relu(linear)\n",
        "    ##2, 256 , 9 , 9\n",
        "    linear=self.linear2(linear)\n",
        "    linear=self.relu(linear)\n",
        "    linear=self.linear3(linear)\n",
        "\n",
        "    return linear"
      ]
    },
    {
      "cell_type": "code",
      "execution_count": 17,
      "metadata": {
        "colab": {
          "base_uri": "https://localhost:8080/"
        },
        "id": "LiJHOFgQ1P6x",
        "outputId": "9ce40dfc-76cd-4595-d598-8255487f4bad"
      },
      "outputs": [
        {
          "output_type": "stream",
          "name": "stdout",
          "text": [
            "----------------------------------------------------------------\n",
            "        Layer (type)               Output Shape         Param #\n",
            "================================================================\n",
            "            Conv2d-1         [-1, 32, 103, 103]             320\n",
            "              ReLU-2         [-1, 32, 103, 103]               0\n",
            "            Conv2d-3           [-1, 64, 52, 52]          18,496\n",
            "              ReLU-4           [-1, 64, 52, 52]               0\n",
            "         MaxPool2d-5           [-1, 64, 26, 26]               0\n",
            "       BatchNorm2d-6           [-1, 64, 26, 26]             128\n",
            "            Conv2d-7          [-1, 128, 26, 26]          73,856\n",
            "              ReLU-8          [-1, 128, 26, 26]               0\n",
            "            Conv2d-9          [-1, 128, 13, 13]         147,584\n",
            "             ReLU-10          [-1, 128, 13, 13]               0\n",
            "        MaxPool2d-11            [-1, 128, 6, 6]               0\n",
            "      BatchNorm2d-12            [-1, 128, 6, 6]             256\n",
            "           Conv2d-13            [-1, 256, 6, 6]         295,168\n",
            "             ReLU-14            [-1, 256, 6, 6]               0\n",
            "           Conv2d-15            [-1, 256, 6, 6]         590,080\n",
            "             ReLU-16            [-1, 256, 6, 6]               0\n",
            "        MaxPool2d-17            [-1, 256, 3, 3]               0\n",
            "      BatchNorm2d-18            [-1, 256, 3, 3]             512\n",
            "           Linear-19                 [-1, 2000]       4,610,000\n",
            "             ReLU-20                 [-1, 2000]               0\n",
            "           Linear-21                 [-1, 1800]       3,601,800\n",
            "             ReLU-22                 [-1, 1800]               0\n",
            "           Linear-23                 [-1, 1623]       2,923,023\n",
            "================================================================\n",
            "Total params: 12,261,223\n",
            "Trainable params: 12,261,223\n",
            "Non-trainable params: 0\n",
            "----------------------------------------------------------------\n",
            "Input size (MB): 0.04\n",
            "Forward/backward pass size (MB): 10.59\n",
            "Params size (MB): 46.77\n",
            "Estimated Total Size (MB): 57.40\n",
            "----------------------------------------------------------------\n"
          ]
        }
      ],
      "source": [
        "device=torch.device(\"cuda:0\" if torch.cuda.is_available else \"cpu\")\n",
        "learning_rate = 0.001\n",
        "model = Omniglot()\n",
        "model.to(device)\n",
        "summary(model,(1,105,105))\n",
        "loss_fn=nn.CrossEntropyLoss()\n",
        "# optimizer = torch.optim.Adam(model.parameters(), lr = learning_rate)\n",
        "optimizer=torch.optim.SGD(model.parameters(),lr=0.01,momentum=0.9)"
      ]
    },
    {
      "cell_type": "code",
      "execution_count": 18,
      "metadata": {
        "id": "1pVo5cu3UfTf"
      },
      "outputs": [],
      "source": [
        "train_losses=[]\n",
        "train_accu=[]\n",
        "deneme_x = []\n",
        "deneme_y = []\n",
        "def train(epoch):\n",
        "  print('\\nEpoch : %d'%epoch)\n",
        "\n",
        "  model.train()\n",
        "\n",
        "  running_loss=0\n",
        "  correct=0\n",
        "  total=0\n",
        "\n",
        "  for data in tqdm(trainloader):\n",
        "\n",
        "    inputs,labels=data[0].to(device),data[1].to(device)\n",
        "    print(inputs)\n",
        "    deneme_x.extend(inputs)\n",
        "\n",
        "\n",
        "    deneme_y.extend(labels)\n",
        "    optimizer.zero_grad()\n",
        "    outputs=model(inputs)\n",
        "    loss=loss_fn(outputs,labels)\n",
        "    loss.backward()\n",
        "    optimizer.step()\n",
        "\n",
        "    running_loss += loss.item()\n",
        "\n",
        "    _, predicted = outputs.max(1)\n",
        "    total += labels.size(0)\n",
        "    correct += predicted.eq(labels).sum().item()\n",
        "\n",
        "  train_loss=running_loss/len(trainloader)\n",
        "  accu=100.*correct/total\n",
        "\n",
        "  train_accu.append(accu)\n",
        "  train_losses.append(train_loss)\n",
        "  print('Train Loss: %.3f | Accuracy: %.3f'%(train_loss,accu))"
      ]
    },
    {
      "cell_type": "code",
      "execution_count": 19,
      "metadata": {
        "id": "DwcldpYihnjG"
      },
      "outputs": [],
      "source": [
        "eval_losses=[]\n",
        "eval_accu=[]\n",
        "\n",
        "def test(epoch):\n",
        "  model.eval()\n",
        "\n",
        "  running_loss=0\n",
        "  correct=0\n",
        "  total=0\n",
        "\n",
        "  with torch.no_grad():\n",
        "    for data in tqdm(testloader):\n",
        "      images,labels=data[0].to(device),data[1].to(device)\n",
        "\n",
        "      outputs=model(images)\n",
        "\n",
        "      loss= loss_fn(outputs,labels)\n",
        "      running_loss+=loss.item()\n",
        "\n",
        "      _, predicted = outputs.max(1)\n",
        "      total += labels.size(0)\n",
        "      correct += predicted.eq(labels).sum().item()\n",
        "\n",
        "  test_loss=running_loss/len(testloader)\n",
        "  accu=100.*correct/total\n",
        "\n",
        "  eval_losses.append(test_loss)\n",
        "  eval_accu.append(accu)\n",
        "\n",
        "  print('Test Loss: %.3f | Accuracy: %.3f'%(test_loss,accu))\n",
        "\n"
      ]
    },
    {
      "cell_type": "code",
      "execution_count": null,
      "metadata": {
        "id": "kwMe-mrTXEuN"
      },
      "outputs": [],
      "source": [
        "epochs=2\n",
        "for epoch in range(1,epochs+1):\n",
        "  train(epoch)\n",
        "  test(epoch)"
      ]
    },
    {
      "cell_type": "code",
      "execution_count": 21,
      "metadata": {
        "colab": {
          "base_uri": "https://localhost:8080/",
          "height": 472
        },
        "id": "xtUX9YtJ1QMP",
        "outputId": "9c7f8c29-1cc0-4e64-ab9c-7837456e30ee"
      },
      "outputs": [
        {
          "output_type": "display_data",
          "data": {
            "text/plain": [
              "<Figure size 640x480 with 1 Axes>"
            ],
            "image/png": "[encoded data removed]"
          },
          "metadata": {}
        }
      ],
      "source": [
        "#plot accuracy\n",
        "\n",
        "plt.plot(train_accu,'-o')\n",
        "plt.plot(eval_accu,'-o')\n",
        "plt.xlabel('epoch')\n",
        "plt.ylabel('accuracy')\n",
        "plt.legend(['Train','Valid'])\n",
        "plt.title('Train vs Valid Accuracy')\n",
        "\n",
        "plt.show()"
      ]
    },
    {
      "cell_type": "code",
      "execution_count": 22,
      "metadata": {
        "colab": {
          "base_uri": "https://localhost:8080/",
          "height": 472
        },
        "id": "iAxXEEyNcdw8",
        "outputId": "4db05fb4-626e-46b0-83c9-ba85fc0c0f43"
      },
      "outputs": [
        {
          "output_type": "display_data",
          "data": {
            "text/plain": [
              "<Figure size 640x480 with 1 Axes>"
            ],
            "image/png": "[encoded data removed]"
          },
          "metadata": {}
        }
      ],
      "source": [
        "#plot losses\n",
        "\n",
        "plt.plot(train_losses,'-o')\n",
        "plt.plot(eval_losses,'-o')\n",
        "plt.xlabel('epoch')\n",
        "plt.ylabel('losses')\n",
        "plt.legend(['Train','Valid'])\n",
        "plt.title('Train vs Valid Losses')\n",
        "\n",
        "plt.show()"
      ]
    },
    {
      "cell_type": "code",
      "execution_count": 22,
      "metadata": {
        "id": "Gydvpunz1QXv"
      },
      "outputs": [],
      "source": []
    },
    {
      "cell_type": "code",
      "execution_count": 22,
      "metadata": {
        "id": "v5LZTcJ9TSun"
      },
      "outputs": [],
      "source": []
    },
    {
      "cell_type": "code",
      "execution_count": 22,
      "metadata": {
        "id": "FF5AsF3wTS8C"
      },
      "outputs": [],
      "source": []
    }
  ],
  "metadata": {
    "accelerator": "GPU",
    "colab": {
      "provenance": [],
      "toc_visible": true,
      "include_colab_link": true
    },
    "kernelspec": {
      "display_name": "Python 3",
      "name": "python3"
    }
  },
  "nbformat": 4,
  "nbformat_minor": 0
}
